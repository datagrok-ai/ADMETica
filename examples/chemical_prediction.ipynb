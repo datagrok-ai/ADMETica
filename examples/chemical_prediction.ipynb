{
 "cells": [
  {
   "cell_type": "markdown",
   "id": "d1edc89e",
   "metadata": {},
   "source": [
    "### Chemical Property Prediction and Evaluation"
   ]
  },
  {
   "cell_type": "markdown",
   "id": "5805099d",
   "metadata": {},
   "source": [
    "This notebook is *designed to perform chemical property prediction* using a *pre-trained model*, evaluate the model's performance using various metrics, and visualize the ROC curve to assess its discriminatory power. The specific chemical property being predicted is 'CYP1A2-inhibitor', and the code is organized into sections for clarity."
   ]
  },
  {
   "cell_type": "code",
   "execution_count": 1,
   "id": "57c695bd",
   "metadata": {},
   "outputs": [
    {
     "name": "stdout",
     "output_type": "stream",
     "text": [
      "Requirement already satisfied: chemprop==2.0.0 in /opt/anaconda3/lib/python3.12/site-packages (2.0.0)\n",
      "Requirement already satisfied: lightning>=2.0 in /opt/anaconda3/lib/python3.12/site-packages (from chemprop==2.0.0) (2.3.3)\n",
      "Requirement already satisfied: numpy in /opt/anaconda3/lib/python3.12/site-packages (from chemprop==2.0.0) (1.26.4)\n",
      "Requirement already satisfied: pandas in /opt/anaconda3/lib/python3.12/site-packages (from chemprop==2.0.0) (2.2.2)\n",
      "Requirement already satisfied: rdkit in /opt/anaconda3/lib/python3.12/site-packages (from chemprop==2.0.0) (2024.3.3)\n",
      "Requirement already satisfied: scikit-learn in /opt/anaconda3/lib/python3.12/site-packages (from chemprop==2.0.0) (1.4.2)\n",
      "Requirement already satisfied: scipy in /opt/anaconda3/lib/python3.12/site-packages (from chemprop==2.0.0) (1.13.1)\n",
      "Requirement already satisfied: torch>=2.1 in /opt/anaconda3/lib/python3.12/site-packages (from chemprop==2.0.0) (2.4.0)\n",
      "Requirement already satisfied: astartes[molecules] in /opt/anaconda3/lib/python3.12/site-packages (from chemprop==2.0.0) (1.2.2)\n",
      "Requirement already satisfied: ConfigArgParse in /opt/anaconda3/lib/python3.12/site-packages (from chemprop==2.0.0) (1.7)\n",
      "Requirement already satisfied: PyYAML<8.0,>=5.4 in /opt/anaconda3/lib/python3.12/site-packages (from lightning>=2.0->chemprop==2.0.0) (6.0.1)\n",
      "Requirement already satisfied: fsspec<2026.0,>=2022.5.0 in /opt/anaconda3/lib/python3.12/site-packages (from fsspec[http]<2026.0,>=2022.5.0->lightning>=2.0->chemprop==2.0.0) (2024.3.1)\n",
      "Requirement already satisfied: lightning-utilities<2.0,>=0.10.0 in /opt/anaconda3/lib/python3.12/site-packages (from lightning>=2.0->chemprop==2.0.0) (0.11.6)\n",
      "Requirement already satisfied: packaging<25.0,>=20.0 in /opt/anaconda3/lib/python3.12/site-packages (from lightning>=2.0->chemprop==2.0.0) (23.2)\n",
      "Requirement already satisfied: torchmetrics<3.0,>=0.7.0 in /opt/anaconda3/lib/python3.12/site-packages (from lightning>=2.0->chemprop==2.0.0) (1.4.0.post0)\n",
      "Requirement already satisfied: tqdm<6.0,>=4.57.0 in /opt/anaconda3/lib/python3.12/site-packages (from lightning>=2.0->chemprop==2.0.0) (4.66.4)\n",
      "Requirement already satisfied: typing-extensions<6.0,>=4.4.0 in /opt/anaconda3/lib/python3.12/site-packages (from lightning>=2.0->chemprop==2.0.0) (4.11.0)\n",
      "Requirement already satisfied: pytorch-lightning in /opt/anaconda3/lib/python3.12/site-packages (from lightning>=2.0->chemprop==2.0.0) (2.3.3)\n",
      "Requirement already satisfied: filelock in /opt/anaconda3/lib/python3.12/site-packages (from torch>=2.1->chemprop==2.0.0) (3.13.1)\n",
      "Requirement already satisfied: sympy in /opt/anaconda3/lib/python3.12/site-packages (from torch>=2.1->chemprop==2.0.0) (1.12)\n",
      "Requirement already satisfied: networkx in /opt/anaconda3/lib/python3.12/site-packages (from torch>=2.1->chemprop==2.0.0) (3.2.1)\n",
      "Requirement already satisfied: jinja2 in /opt/anaconda3/lib/python3.12/site-packages (from torch>=2.1->chemprop==2.0.0) (3.1.4)\n",
      "Requirement already satisfied: setuptools in /opt/anaconda3/lib/python3.12/site-packages (from torch>=2.1->chemprop==2.0.0) (69.5.1)\n",
      "Requirement already satisfied: tabulate in /opt/anaconda3/lib/python3.12/site-packages (from astartes[molecules]->chemprop==2.0.0) (0.9.0)\n",
      "Requirement already satisfied: aimsim-core in /opt/anaconda3/lib/python3.12/site-packages (from astartes[molecules]->chemprop==2.0.0) (2.2.1)\n",
      "Requirement already satisfied: python-dateutil>=2.8.2 in /opt/anaconda3/lib/python3.12/site-packages (from pandas->chemprop==2.0.0) (2.9.0.post0)\n",
      "Requirement already satisfied: pytz>=2020.1 in /opt/anaconda3/lib/python3.12/site-packages (from pandas->chemprop==2.0.0) (2024.1)\n",
      "Requirement already satisfied: tzdata>=2022.7 in /opt/anaconda3/lib/python3.12/site-packages (from pandas->chemprop==2.0.0) (2023.3)\n",
      "Requirement already satisfied: Pillow in /opt/anaconda3/lib/python3.12/site-packages (from rdkit->chemprop==2.0.0) (10.3.0)\n",
      "Requirement already satisfied: joblib>=1.2.0 in /opt/anaconda3/lib/python3.12/site-packages (from scikit-learn->chemprop==2.0.0) (1.4.2)\n",
      "Requirement already satisfied: threadpoolctl>=2.0.0 in /opt/anaconda3/lib/python3.12/site-packages (from scikit-learn->chemprop==2.0.0) (2.2.0)\n",
      "Requirement already satisfied: aiohttp!=4.0.0a0,!=4.0.0a1 in /opt/anaconda3/lib/python3.12/site-packages (from fsspec[http]<2026.0,>=2022.5.0->lightning>=2.0->chemprop==2.0.0) (3.9.5)\n",
      "Requirement already satisfied: six>=1.5 in /opt/anaconda3/lib/python3.12/site-packages (from python-dateutil>=2.8.2->pandas->chemprop==2.0.0) (1.16.0)\n",
      "Requirement already satisfied: psutil in /opt/anaconda3/lib/python3.12/site-packages (from aimsim-core->astartes[molecules]->chemprop==2.0.0) (5.9.0)\n",
      "Requirement already satisfied: padelpy in /opt/anaconda3/lib/python3.12/site-packages (from aimsim-core->astartes[molecules]->chemprop==2.0.0) (0.1.16)\n",
      "Requirement already satisfied: mhfp in /opt/anaconda3/lib/python3.12/site-packages (from aimsim-core->astartes[molecules]->chemprop==2.0.0) (1.9.6)\n",
      "Requirement already satisfied: mordredcommunity in /opt/anaconda3/lib/python3.12/site-packages (from aimsim-core->astartes[molecules]->chemprop==2.0.0) (2.0.6)\n",
      "Requirement already satisfied: multiprocess>=0.70 in /opt/anaconda3/lib/python3.12/site-packages (from aimsim-core->astartes[molecules]->chemprop==2.0.0) (0.70.16)\n",
      "Requirement already satisfied: MarkupSafe>=2.0 in /opt/anaconda3/lib/python3.12/site-packages (from jinja2->torch>=2.1->chemprop==2.0.0) (2.1.3)\n",
      "Requirement already satisfied: mpmath>=0.19 in /opt/anaconda3/lib/python3.12/site-packages (from sympy->torch>=2.1->chemprop==2.0.0) (1.3.0)\n",
      "Requirement already satisfied: aiosignal>=1.1.2 in /opt/anaconda3/lib/python3.12/site-packages (from aiohttp!=4.0.0a0,!=4.0.0a1->fsspec[http]<2026.0,>=2022.5.0->lightning>=2.0->chemprop==2.0.0) (1.2.0)\n",
      "Requirement already satisfied: attrs>=17.3.0 in /opt/anaconda3/lib/python3.12/site-packages (from aiohttp!=4.0.0a0,!=4.0.0a1->fsspec[http]<2026.0,>=2022.5.0->lightning>=2.0->chemprop==2.0.0) (23.1.0)\n",
      "Requirement already satisfied: frozenlist>=1.1.1 in /opt/anaconda3/lib/python3.12/site-packages (from aiohttp!=4.0.0a0,!=4.0.0a1->fsspec[http]<2026.0,>=2022.5.0->lightning>=2.0->chemprop==2.0.0) (1.4.0)\n",
      "Requirement already satisfied: multidict<7.0,>=4.5 in /opt/anaconda3/lib/python3.12/site-packages (from aiohttp!=4.0.0a0,!=4.0.0a1->fsspec[http]<2026.0,>=2022.5.0->lightning>=2.0->chemprop==2.0.0) (6.0.4)\n",
      "Requirement already satisfied: yarl<2.0,>=1.0 in /opt/anaconda3/lib/python3.12/site-packages (from aiohttp!=4.0.0a0,!=4.0.0a1->fsspec[http]<2026.0,>=2022.5.0->lightning>=2.0->chemprop==2.0.0) (1.9.3)\n",
      "Requirement already satisfied: dill>=0.3.8 in /opt/anaconda3/lib/python3.12/site-packages (from multiprocess>=0.70->aimsim-core->astartes[molecules]->chemprop==2.0.0) (0.3.8)\n",
      "Requirement already satisfied: idna>=2.0 in /opt/anaconda3/lib/python3.12/site-packages (from yarl<2.0,>=1.0->aiohttp!=4.0.0a0,!=4.0.0a1->fsspec[http]<2026.0,>=2022.5.0->lightning>=2.0->chemprop==2.0.0) (3.7)\n"
     ]
    }
   ],
   "source": [
    "# Installing chemprop (https://github.com/chemprop/chemprop) for chemical property prediction\n",
    "!pip install chemprop==2.0.0"
   ]
  },
  {
   "cell_type": "code",
   "execution_count": 2,
   "id": "0e0ed818-1615-4681-a171-db2856e87d24",
   "metadata": {},
   "outputs": [],
   "source": [
    "# Importing necessary modules\n",
    "import pandas as pd\n",
    "import numpy as np\n",
    "import os\n",
    "import torch\n",
    "import pandas as pd\n",
    "import numpy as np\n",
    "from chemprop import data, featurizers, models\n",
    "from lightning import pytorch as pl\n",
    "import math\n",
    "from sklearn.metrics import roc_curve, auc\n",
    "import matplotlib.pyplot as plt"
   ]
  },
  {
   "cell_type": "code",
   "execution_count": 3,
   "id": "16c1cd83",
   "metadata": {},
   "outputs": [],
   "source": [
    "# Define a dictionary for model paths\n",
    "model_paths = {\n",
    "    'caco2': os.path.join('Models', 'Absorption', 'Caco2.ckpt'),\n",
    "    'solubility': os.path.join('Models', 'Absorption', 'Solubility.ckpt'),\n",
    "    'lipophilicity': os.path.join('Models', 'Absorption', 'Lipophilicity.ckpt'),\n",
    "    'ppbr': os.path.join('Models', 'Distribution', 'PPBR.ckpt'),\n",
    "    'vdss': os.path.join('Models', 'Distribution', 'VDss.ckpt'),\n",
    "    'cyp1a2-inhibitor': os.path.join('Models', 'Metabolism', 'CYP1A2-Inhibitor.ckpt'),\n",
    "    'cyp1a2-substrate': os.path.join('Models', 'Metabolism', 'CYP1A2-Substrate.ckpt'),\n",
    "    'cyp2c19-inhibitor': os.path.join('Models', 'Metabolism', 'CYP2C19-Inhibitor.ckpt'),\n",
    "    'cyp2c19-substrate': os.path.join('Models', 'Metabolism', 'CYP2C19-Substrate.ckpt'),\n",
    "    'cyp2c9-inhibitor': os.path.join('Models', 'Metabolism', 'CYP2C9-Inhibitor.ckpt'),\n",
    "    'cyp2c9-substrate': os.path.join('Models', 'Metabolism', 'CYP2C9-Substrate.ckpt'),\n",
    "    'cyp2d6-inhibitor': os.path.join('Models', 'Metabolism', 'CYP2D6-Inhibitor.ckpt'),\n",
    "    'cyp2d6-substrate': os.path.join('Models', 'Metabolism', 'CYP2D6-Substrate.ckpt'),\n",
    "    'cl-hepa': os.path.join('Models', 'Excretion', 'CL-Hepa.ckpt'),\n",
    "    'cl-micro': os.path.join('Models', 'Excretion', 'CL-Micro.ckpt'),\n",
    "    'half-life': os.path.join('Models', 'Excretion', 'Half-Life.ckpt'),\n",
    "}"
   ]
  },
  {
   "cell_type": "code",
   "execution_count": 4,
   "id": "bc87239e",
   "metadata": {},
   "outputs": [],
   "source": [
    "# Utility functions for loading and applying the model\n",
    "def get_model_path(property_name):\n",
    "    return model_paths.get(property_name.lower())\n",
    "\n",
    "def load_model(checkpoint_path):\n",
    "    return models.MPNN.load_from_checkpoint(checkpoint_path)\n",
    "\n",
    "def featurize_smiles(smiles_list):\n",
    "    test_data = [data.MoleculeDatapoint.from_smi(smi) for smi in smiles_list]\n",
    "    featurizer = featurizers.SimpleMoleculeMolGraphFeaturizer()\n",
    "    test_dset = data.MoleculeDataset(test_data, featurizer=featurizer)\n",
    "    return data.build_dataloader(test_dset, shuffle=False)\n",
    "\n",
    "def predict_property(model, dataloader):\n",
    "    with torch.inference_mode():\n",
    "        trainer = pl.Trainer(\n",
    "            logger=False,\n",
    "            enable_progress_bar=False,\n",
    "            accelerator=\"cpu\",\n",
    "            devices=1\n",
    "        )\n",
    "        test_preds = trainer.predict(model, dataloader)\n",
    "        test_preds_flat = [item for sublist in test_preds for item in sublist]\n",
    "    return test_preds_flat"
   ]
  },
  {
   "cell_type": "code",
   "execution_count": 5,
   "id": "3537f7c5-bca8-40cd-a6f8-1b8865653807",
   "metadata": {},
   "outputs": [
    {
     "name": "stderr",
     "output_type": "stream",
     "text": [
      "/opt/anaconda3/lib/python3.12/site-packages/chemprop/models/model.py:225: FutureWarning: You are using `torch.load` with `weights_only=False` (the current default value), which uses the default pickle module implicitly. It is possible to construct malicious pickle data which will execute arbitrary code during unpickling (See https://github.com/pytorch/pytorch/blob/main/SECURITY.md#untrusted-models for more details). In a future release, the default value for `weights_only` will be flipped to `True`. This limits the functions that could be executed during unpickling. Arbitrary objects will no longer be allowed to be loaded via this mode unless they are explicitly allowlisted by the user via `torch.serialization.add_safe_globals`. We recommend you start setting `weights_only=True` for any use case where you don't have full control of the loaded file. Please open an issue on GitHub for any issues related to this experimental feature.\n",
      "  hparams = torch.load(checkpoint_path)[\"hyper_parameters\"]\n",
      "/opt/anaconda3/lib/python3.12/site-packages/lightning/pytorch/utilities/parsing.py:208: Attribute 'output_transform' is an instance of `nn.Module` and is already saved during checkpointing. It is recommended to ignore them using `self.save_hyperparameters(ignore=['output_transform'])`.\n",
      "/opt/anaconda3/lib/python3.12/site-packages/lightning/fabric/utilities/cloud_io.py:57: You are using `torch.load` with `weights_only=False` (the current default value), which uses the default pickle module implicitly. It is possible to construct malicious pickle data which will execute arbitrary code during unpickling (See https://github.com/pytorch/pytorch/blob/main/SECURITY.md#untrusted-models for more details). In a future release, the default value for `weights_only` will be flipped to `True`. This limits the functions that could be executed during unpickling. Arbitrary objects will no longer be allowed to be loaded via this mode unless they are explicitly allowlisted by the user via `torch.serialization.add_safe_globals`. We recommend you start setting `weights_only=True` for any use case where you don't have full control of the loaded file. Please open an issue on GitHub for any issues related to this experimental feature.\n",
      "GPU available: True (mps), used: False\n",
      "TPU available: False, using: 0 TPU cores\n",
      "HPU available: False, using: 0 HPUs\n",
      "/opt/anaconda3/lib/python3.12/site-packages/lightning/pytorch/trainer/setup.py:177: GPU available but not used. You can set it by doing `Trainer(accelerator='gpu')`.\n",
      "/opt/anaconda3/lib/python3.12/site-packages/lightning/pytorch/trainer/connectors/data_connector.py:424: The 'predict_dataloader' does not have many workers which may be a bottleneck. Consider increasing the value of the `num_workers` argument` to `num_workers=11` in the `DataLoader` to improve performance.\n"
     ]
    },
    {
     "data": {
      "text/plain": [
       "array([[0.0],\n",
       "       [0.0],\n",
       "       [1.0],\n",
       "       ...,\n",
       "       [0.0],\n",
       "       [0.0],\n",
       "       [0.0]], dtype=object)"
      ]
     },
     "execution_count": 5,
     "metadata": {},
     "output_type": "execute_result"
    }
   ],
   "source": [
    "# Applying the trained model to make predictions for a specific chemical property\n",
    "property_name = 'cyp1a2-inhibitor'\n",
    "smiles_col = 'smiles'\n",
    "dataset_path = os.path.join('Curated Datasets', 'Metabolism', 'CYP1A2-Inhibitor.csv')\n",
    "smiles_list = pd.read_csv(dataset_path)[smiles_col].tolist()\n",
    "model_path = get_model_path(property_name)\n",
    "mpnn = load_model(model_path)\n",
    "test_loader = featurize_smiles(smiles_list)\n",
    "predictions = np.array(predict_property(mpnn, test_loader), dtype=object)\n",
    "predictions"
   ]
  },
  {
   "cell_type": "code",
   "execution_count": 6,
   "id": "cd3bccbc",
   "metadata": {},
   "outputs": [
    {
     "data": {
      "text/html": [
       "<div>\n",
       "<style scoped>\n",
       "    .dataframe tbody tr th:only-of-type {\n",
       "        vertical-align: middle;\n",
       "    }\n",
       "\n",
       "    .dataframe tbody tr th {\n",
       "        vertical-align: top;\n",
       "    }\n",
       "\n",
       "    .dataframe thead th {\n",
       "        text-align: right;\n",
       "    }\n",
       "</style>\n",
       "<table border=\"1\" class=\"dataframe\">\n",
       "  <thead>\n",
       "    <tr style=\"text-align: right;\">\n",
       "      <th></th>\n",
       "      <th>smiles</th>\n",
       "      <th>Activity</th>\n",
       "    </tr>\n",
       "  </thead>\n",
       "  <tbody>\n",
       "    <tr>\n",
       "      <th>0</th>\n",
       "      <td>CCCC(=O)Nc1ccc(N2CCN(CC)CC2)c(Cl)c1</td>\n",
       "      <td>0</td>\n",
       "    </tr>\n",
       "    <tr>\n",
       "      <th>1</th>\n",
       "      <td>O=c1[nH]c2cc3c(cc2cc1CN(CCCO)Cc1nnnn1Cc1ccc(F)...</td>\n",
       "      <td>1</td>\n",
       "    </tr>\n",
       "    <tr>\n",
       "      <th>2</th>\n",
       "      <td>CCN1C(=O)/C(=C2\\SC(=S)N(CCCOC)C2=O)c2ccccc21</td>\n",
       "      <td>1</td>\n",
       "    </tr>\n",
       "    <tr>\n",
       "      <th>3</th>\n",
       "      <td>CC(=O)N(c1ccc2oc(=O)sc2c1)S(=O)(=O)c1cccs1</td>\n",
       "      <td>1</td>\n",
       "    </tr>\n",
       "    <tr>\n",
       "      <th>4</th>\n",
       "      <td>Clc1ccccc1-c1nc(-c2ccccc2)n[nH]1</td>\n",
       "      <td>1</td>\n",
       "    </tr>\n",
       "    <tr>\n",
       "      <th>5</th>\n",
       "      <td>COc1ccccc1CNC(=O)Cn1nnc(-c2ccncc2)n1</td>\n",
       "      <td>1</td>\n",
       "    </tr>\n",
       "    <tr>\n",
       "      <th>6</th>\n",
       "      <td>N=c1n(CCN2CCOCC2)c2ccccc2n1CC(=O)c1ccc(Cl)c(Cl)c1</td>\n",
       "      <td>1</td>\n",
       "    </tr>\n",
       "    <tr>\n",
       "      <th>7</th>\n",
       "      <td>COc1ccc(/C(O)=C2/C(=O)C(=O)N(CCCC(=O)O)C2c2ccc...</td>\n",
       "      <td>0</td>\n",
       "    </tr>\n",
       "    <tr>\n",
       "      <th>8</th>\n",
       "      <td>COc1ccc(Nc2nc(N)nc(CSc3n[nH]c(-c4ccccc4)n3)n2)cc1</td>\n",
       "      <td>1</td>\n",
       "    </tr>\n",
       "    <tr>\n",
       "      <th>9</th>\n",
       "      <td>CCN(CC)C(=O)CSc1nnc(-c2cc3ccccc3cc2O)n1CC</td>\n",
       "      <td>1</td>\n",
       "    </tr>\n",
       "  </tbody>\n",
       "</table>\n",
       "</div>"
      ],
      "text/plain": [
       "                                              smiles  Activity\n",
       "0                CCCC(=O)Nc1ccc(N2CCN(CC)CC2)c(Cl)c1         0\n",
       "1  O=c1[nH]c2cc3c(cc2cc1CN(CCCO)Cc1nnnn1Cc1ccc(F)...         1\n",
       "2       CCN1C(=O)/C(=C2\\SC(=S)N(CCCOC)C2=O)c2ccccc21         1\n",
       "3         CC(=O)N(c1ccc2oc(=O)sc2c1)S(=O)(=O)c1cccs1         1\n",
       "4                   Clc1ccccc1-c1nc(-c2ccccc2)n[nH]1         1\n",
       "5               COc1ccccc1CNC(=O)Cn1nnc(-c2ccncc2)n1         1\n",
       "6  N=c1n(CCN2CCOCC2)c2ccccc2n1CC(=O)c1ccc(Cl)c(Cl)c1         1\n",
       "7  COc1ccc(/C(O)=C2/C(=O)C(=O)N(CCCC(=O)O)C2c2ccc...         0\n",
       "8  COc1ccc(Nc2nc(N)nc(CSc3n[nH]c(-c4ccccc4)n3)n2)cc1         1\n",
       "9          CCN(CC)C(=O)CSc1nnc(-c2cc3ccccc3cc2O)n1CC         1"
      ]
     },
     "execution_count": 6,
     "metadata": {},
     "output_type": "execute_result"
    }
   ],
   "source": [
    "true = pd.read_csv(dataset_path)\n",
    "true.head(10)"
   ]
  },
  {
   "cell_type": "code",
   "execution_count": 7,
   "id": "ee9b4141-83a5-4ea3-81ae-a458b2740d3b",
   "metadata": {},
   "outputs": [
    {
     "name": "stdout",
     "output_type": "stream",
     "text": [
      "True Positives: 4218\n",
      "True Negatives: 6882\n",
      "False Positives: 321\n",
      "False Negatives: 1767\n",
      "Specificity: 0.9554352353186173\n",
      "Sensitivity: 0.7047619047619048\n",
      "Accuracy: 0.8416742493175614\n",
      "Balanced accuracy: 0.830098570040261\n"
     ]
    }
   ],
   "source": [
    "\"\"\"Defining utility functions for metrics calculation\"\"\"\n",
    "\n",
    "# Calculate the mean of activity values from the true dataset\n",
    "mean = true['Activity'].mean()\n",
    "\n",
    "# Function to determine whether a value should be rounded up (1) or down (0) based on the mean\n",
    "def ceil(number):\n",
    "    if number < mean:\n",
    "        return 0\n",
    "    else:\n",
    "        return 1\n",
    "\n",
    "# Function to convert a number to an integer\n",
    "def toInt(number):\n",
    "    return int(number)\n",
    "\n",
    "\"\"\"Metrics calculation\"\"\"\n",
    "\n",
    "# Mapping the 'ceil' function to prediction activity values and converting to NumPy arrays\n",
    "pred_labels = np.asarray(list(map(ceil, predictions.tolist())))\n",
    "\n",
    "# Mapping the 'toInt' function to true activity values and converting to NumPy arrays\n",
    "true_labels = np.asarray(list(map(toInt, true['Activity'].tolist())))\n",
    "\n",
    "# Calculating true positive, true negative, false positive, and false negative counts\n",
    "tp = np.sum(np.logical_and(pred_labels == 1, true_labels == 1))\n",
    "tn = np.sum(np.logical_and(pred_labels == 0, true_labels == 0))\n",
    "fp = np.sum(np.logical_and(pred_labels == 1, true_labels == 0))\n",
    "fn = np.sum(np.logical_and(pred_labels == 0, true_labels == 1))\n",
    "\n",
    "# Calculating specificity, sensitivity, accuracy, and balanced accuracy\n",
    "specificity = tn / (fp + tn)\n",
    "sensitivity = tp / (fn + tp)\n",
    "accuracy = (tp + tn) / (tp + tn + fp + fn)\n",
    "balanced_accuracy = (specificity + sensitivity) / 2\n",
    "\n",
    "# Displaying the calculated metrics\n",
    "print(f\"True Positives: {tp}\")  # True Positives\n",
    "print(f\"True Negatives: {tn}\")  # True Negatives\n",
    "print(f\"False Positives: {fp}\")  # False Positives\n",
    "print(f\"False Negatives: {fn}\")  # False Negatives\n",
    "print(f\"Specificity: {specificity}\")  # Specificity\n",
    "print(f\"Sensitivity: {sensitivity}\")  # Sensitivity\n",
    "print(f\"Accuracy: {accuracy}\")  # Accuracy\n",
    "print(f\"Balanced accuracy: {balanced_accuracy}\")  # Balanced Accuracy"
   ]
  },
  {
   "cell_type": "code",
   "execution_count": 8,
   "id": "785b4dae",
   "metadata": {},
   "outputs": [
    {
     "name": "stdin",
     "output_type": "stream",
     "text": [
      "Enter the property to calculate (e.g., solubility) or 'exit' to quit:  vdss\n",
      "Enter the SMILES list (comma-separated):  CC, CCCC\n"
     ]
    },
    {
     "name": "stderr",
     "output_type": "stream",
     "text": [
      "/opt/anaconda3/lib/python3.12/site-packages/chemprop/models/model.py:225: FutureWarning: You are using `torch.load` with `weights_only=False` (the current default value), which uses the default pickle module implicitly. It is possible to construct malicious pickle data which will execute arbitrary code during unpickling (See https://github.com/pytorch/pytorch/blob/main/SECURITY.md#untrusted-models for more details). In a future release, the default value for `weights_only` will be flipped to `True`. This limits the functions that could be executed during unpickling. Arbitrary objects will no longer be allowed to be loaded via this mode unless they are explicitly allowlisted by the user via `torch.serialization.add_safe_globals`. We recommend you start setting `weights_only=True` for any use case where you don't have full control of the loaded file. Please open an issue on GitHub for any issues related to this experimental feature.\n",
      "  hparams = torch.load(checkpoint_path)[\"hyper_parameters\"]\n",
      "/opt/anaconda3/lib/python3.12/site-packages/lightning/pytorch/utilities/parsing.py:208: Attribute 'output_transform' is an instance of `nn.Module` and is already saved during checkpointing. It is recommended to ignore them using `self.save_hyperparameters(ignore=['output_transform'])`.\n",
      "/opt/anaconda3/lib/python3.12/site-packages/lightning/fabric/utilities/cloud_io.py:57: You are using `torch.load` with `weights_only=False` (the current default value), which uses the default pickle module implicitly. It is possible to construct malicious pickle data which will execute arbitrary code during unpickling (See https://github.com/pytorch/pytorch/blob/main/SECURITY.md#untrusted-models for more details). In a future release, the default value for `weights_only` will be flipped to `True`. This limits the functions that could be executed during unpickling. Arbitrary objects will no longer be allowed to be loaded via this mode unless they are explicitly allowlisted by the user via `torch.serialization.add_safe_globals`. We recommend you start setting `weights_only=True` for any use case where you don't have full control of the loaded file. Please open an issue on GitHub for any issues related to this experimental feature.\n",
      "GPU available: True (mps), used: False\n",
      "TPU available: False, using: 0 TPU cores\n",
      "HPU available: False, using: 0 HPUs\n",
      "/opt/anaconda3/lib/python3.12/site-packages/lightning/pytorch/trainer/setup.py:177: GPU available but not used. You can set it by doing `Trainer(accelerator='gpu')`.\n",
      "/opt/anaconda3/lib/python3.12/site-packages/lightning/pytorch/trainer/connectors/data_connector.py:424: The 'predict_dataloader' does not have many workers which may be a bottleneck. Consider increasing the value of the `num_workers` argument` to `num_workers=11` in the `DataLoader` to improve performance.\n"
     ]
    },
    {
     "name": "stdout",
     "output_type": "stream",
     "text": [
      "Predictions:\n",
      "  SMILES        Prediction\n",
      "0     CC  tensor(-16.0948)\n",
      "1   CCCC   tensor(-5.3520)\n"
     ]
    },
    {
     "name": "stdin",
     "output_type": "stream",
     "text": [
      "Enter the property to calculate (e.g., solubility) or 'exit' to quit:  exit\n"
     ]
    },
    {
     "name": "stdout",
     "output_type": "stream",
     "text": [
      "Exiting the interface.\n"
     ]
    }
   ],
   "source": [
    "# This script provides a command-line interface for predicting molecular properties\n",
    "def main():\n",
    "    while True:\n",
    "        property_name = input(\"Enter the property to calculate (e.g., solubility) or 'exit' to quit: \").strip().lower()\n",
    "        \n",
    "        if property_name == 'exit':\n",
    "            print(\"Exiting the interface.\")\n",
    "            break\n",
    "        \n",
    "        model_path = get_model_path(property_name)\n",
    "        \n",
    "        if not model_path or not os.path.exists(model_path):\n",
    "            print(f\"Model for property '{property_name}' not found.\")\n",
    "            continue\n",
    "        \n",
    "        smiles_input = input(\"Enter the SMILES list (comma-separated): \").strip()\n",
    "        smiles_list = [smi.strip() for smi in smiles_input.split(',')]\n",
    "        \n",
    "        mpnn = load_model(model_path)\n",
    "        test_loader = featurize_smiles(smiles_list)\n",
    "        \n",
    "        test_preds = predict_property(mpnn, test_loader)\n",
    "        \n",
    "        test_preds_list = [pred[0] for pred in test_preds]\n",
    "        \n",
    "        df = pd.DataFrame({\n",
    "            'SMILES': smiles_list,\n",
    "            'Prediction': test_preds_list\n",
    "        })\n",
    "        \n",
    "        print(\"Predictions:\")\n",
    "        print(df)\n",
    "\n",
    "if __name__ == \"__main__\":\n",
    "    main()"
   ]
  },
  {
   "cell_type": "code",
   "execution_count": null,
   "id": "10bee226",
   "metadata": {},
   "outputs": [],
   "source": []
  }
 ],
 "metadata": {
  "kernelspec": {
   "display_name": "Python 3 (ipykernel)",
   "language": "python",
   "name": "python3"
  },
  "language_info": {
   "codemirror_mode": {
    "name": "ipython",
    "version": 3
   },
   "file_extension": ".py",
   "mimetype": "text/x-python",
   "name": "python",
   "nbconvert_exporter": "python",
   "pygments_lexer": "ipython3",
   "version": "3.12.4"
  }
 },
 "nbformat": 4,
 "nbformat_minor": 5
}
