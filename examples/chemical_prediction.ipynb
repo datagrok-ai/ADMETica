{
 "cells": [
  {
   "cell_type": "markdown",
   "id": "d1edc89e",
   "metadata": {},
   "source": [
    "### Chemical Property Prediction and Evaluation"
   ]
  },
  {
   "cell_type": "markdown",
   "id": "5805099d",
   "metadata": {},
   "source": [
    "This notebook is *designed to perform chemical property prediction* using a *pre-trained model*, evaluate the model's performance using various metrics, and visualize the ROC curve to assess its discriminatory power. The specific chemical property being predicted is 'CYP1A2-inhibitor', and the code is organized into sections for clarity."
   ]
  },
  {
   "cell_type": "code",
   "execution_count": 1,
   "id": "57c695bd",
   "metadata": {},
   "outputs": [
    {
     "name": "stdout",
     "output_type": "stream",
     "text": [
      "Requirement already satisfied: chemprop==2.0.0 in /opt/anaconda3/lib/python3.12/site-packages (2.0.0)\n",
      "Requirement already satisfied: lightning>=2.0 in /opt/anaconda3/lib/python3.12/site-packages (from chemprop==2.0.0) (2.3.3)\n",
      "Requirement already satisfied: numpy in /opt/anaconda3/lib/python3.12/site-packages (from chemprop==2.0.0) (1.26.4)\n",
      "Requirement already satisfied: pandas in /opt/anaconda3/lib/python3.12/site-packages (from chemprop==2.0.0) (2.2.2)\n",
      "Requirement already satisfied: rdkit in /opt/anaconda3/lib/python3.12/site-packages (from chemprop==2.0.0) (2023.9.6)\n",
      "Requirement already satisfied: scikit-learn in /opt/anaconda3/lib/python3.12/site-packages (from chemprop==2.0.0) (1.5.0)\n",
      "Requirement already satisfied: scipy in /opt/anaconda3/lib/python3.12/site-packages (from chemprop==2.0.0) (1.14.0)\n",
      "Requirement already satisfied: torch>=2.1 in /opt/anaconda3/lib/python3.12/site-packages (from chemprop==2.0.0) (2.3.0)\n",
      "Requirement already satisfied: astartes[molecules] in /opt/anaconda3/lib/python3.12/site-packages (from chemprop==2.0.0) (1.2.2)\n",
      "Requirement already satisfied: ConfigArgParse in /opt/anaconda3/lib/python3.12/site-packages (from chemprop==2.0.0) (1.7)\n",
      "Requirement already satisfied: PyYAML<8.0,>=5.4 in /opt/anaconda3/lib/python3.12/site-packages (from lightning>=2.0->chemprop==2.0.0) (6.0.1)\n",
      "Requirement already satisfied: fsspec<2026.0,>=2022.5.0 in /opt/anaconda3/lib/python3.12/site-packages (from fsspec[http]<2026.0,>=2022.5.0->lightning>=2.0->chemprop==2.0.0) (2024.6.1)\n",
      "Requirement already satisfied: lightning-utilities<2.0,>=0.10.0 in /opt/anaconda3/lib/python3.12/site-packages (from lightning>=2.0->chemprop==2.0.0) (0.11.6)\n",
      "Requirement already satisfied: packaging<25.0,>=20.0 in /opt/anaconda3/lib/python3.12/site-packages (from lightning>=2.0->chemprop==2.0.0) (24.1)\n",
      "Requirement already satisfied: torchmetrics<3.0,>=0.7.0 in /opt/anaconda3/lib/python3.12/site-packages (from lightning>=2.0->chemprop==2.0.0) (1.4.0.post0)\n",
      "Requirement already satisfied: tqdm<6.0,>=4.57.0 in /opt/anaconda3/lib/python3.12/site-packages (from lightning>=2.0->chemprop==2.0.0) (4.66.4)\n",
      "Requirement already satisfied: typing-extensions<6.0,>=4.4.0 in /opt/anaconda3/lib/python3.12/site-packages (from lightning>=2.0->chemprop==2.0.0) (4.12.2)\n",
      "Requirement already satisfied: pytorch-lightning in /opt/anaconda3/lib/python3.12/site-packages (from lightning>=2.0->chemprop==2.0.0) (2.3.3)\n",
      "Requirement already satisfied: filelock in /opt/anaconda3/lib/python3.12/site-packages (from torch>=2.1->chemprop==2.0.0) (3.15.4)\n",
      "Requirement already satisfied: sympy in /opt/anaconda3/lib/python3.12/site-packages (from torch>=2.1->chemprop==2.0.0) (1.13.1)\n",
      "Requirement already satisfied: networkx in /opt/anaconda3/lib/python3.12/site-packages (from torch>=2.1->chemprop==2.0.0) (3.3)\n",
      "Requirement already satisfied: jinja2 in /opt/anaconda3/lib/python3.12/site-packages (from torch>=2.1->chemprop==2.0.0) (3.1.4)\n",
      "Requirement already satisfied: tabulate in /opt/anaconda3/lib/python3.12/site-packages (from astartes[molecules]->chemprop==2.0.0) (0.9.0)\n",
      "Requirement already satisfied: aimsim-core in /opt/anaconda3/lib/python3.12/site-packages (from astartes[molecules]->chemprop==2.0.0) (2.2.1)\n",
      "Requirement already satisfied: python-dateutil>=2.8.2 in /opt/anaconda3/lib/python3.12/site-packages (from pandas->chemprop==2.0.0) (2.9.0.post0)\n",
      "Requirement already satisfied: pytz>=2020.1 in /opt/anaconda3/lib/python3.12/site-packages (from pandas->chemprop==2.0.0) (2024.1)\n",
      "Requirement already satisfied: tzdata>=2022.7 in /opt/anaconda3/lib/python3.12/site-packages (from pandas->chemprop==2.0.0) (2024.1)\n",
      "Requirement already satisfied: Pillow in /opt/anaconda3/lib/python3.12/site-packages (from rdkit->chemprop==2.0.0) (10.4.0)\n",
      "Requirement already satisfied: joblib>=1.2.0 in /opt/anaconda3/lib/python3.12/site-packages (from scikit-learn->chemprop==2.0.0) (1.4.2)\n",
      "Requirement already satisfied: threadpoolctl>=3.1.0 in /opt/anaconda3/lib/python3.12/site-packages (from scikit-learn->chemprop==2.0.0) (3.5.0)\n",
      "Requirement already satisfied: aiohttp!=4.0.0a0,!=4.0.0a1 in /opt/anaconda3/lib/python3.12/site-packages (from fsspec[http]<2026.0,>=2022.5.0->lightning>=2.0->chemprop==2.0.0) (3.9.5)\n",
      "Requirement already satisfied: setuptools in /opt/anaconda3/lib/python3.12/site-packages (from lightning-utilities<2.0,>=0.10.0->lightning>=2.0->chemprop==2.0.0) (72.1.0)\n",
      "Requirement already satisfied: six>=1.5 in /opt/anaconda3/lib/python3.12/site-packages (from python-dateutil>=2.8.2->pandas->chemprop==2.0.0) (1.16.0)\n",
      "Requirement already satisfied: psutil in /opt/anaconda3/lib/python3.12/site-packages (from aimsim-core->astartes[molecules]->chemprop==2.0.0) (6.0.0)\n",
      "Requirement already satisfied: padelpy in /opt/anaconda3/lib/python3.12/site-packages (from aimsim-core->astartes[molecules]->chemprop==2.0.0) (0.1.16)\n",
      "Requirement already satisfied: mhfp in /opt/anaconda3/lib/python3.12/site-packages (from aimsim-core->astartes[molecules]->chemprop==2.0.0) (1.9.6)\n",
      "Requirement already satisfied: mordredcommunity in /opt/anaconda3/lib/python3.12/site-packages (from aimsim-core->astartes[molecules]->chemprop==2.0.0) (2.0.5)\n",
      "Requirement already satisfied: multiprocess>=0.70 in /opt/anaconda3/lib/python3.12/site-packages (from aimsim-core->astartes[molecules]->chemprop==2.0.0) (0.70.16)\n",
      "Requirement already satisfied: MarkupSafe>=2.0 in /opt/anaconda3/lib/python3.12/site-packages (from jinja2->torch>=2.1->chemprop==2.0.0) (2.1.5)\n",
      "Requirement already satisfied: mpmath<1.4,>=1.1.0 in /opt/anaconda3/lib/python3.12/site-packages (from sympy->torch>=2.1->chemprop==2.0.0) (1.3.0)\n",
      "Requirement already satisfied: aiosignal>=1.1.2 in /opt/anaconda3/lib/python3.12/site-packages (from aiohttp!=4.0.0a0,!=4.0.0a1->fsspec[http]<2026.0,>=2022.5.0->lightning>=2.0->chemprop==2.0.0) (1.3.1)\n",
      "Requirement already satisfied: attrs>=17.3.0 in /opt/anaconda3/lib/python3.12/site-packages (from aiohttp!=4.0.0a0,!=4.0.0a1->fsspec[http]<2026.0,>=2022.5.0->lightning>=2.0->chemprop==2.0.0) (23.2.0)\n",
      "Requirement already satisfied: frozenlist>=1.1.1 in /opt/anaconda3/lib/python3.12/site-packages (from aiohttp!=4.0.0a0,!=4.0.0a1->fsspec[http]<2026.0,>=2022.5.0->lightning>=2.0->chemprop==2.0.0) (1.4.1)\n",
      "Requirement already satisfied: multidict<7.0,>=4.5 in /opt/anaconda3/lib/python3.12/site-packages (from aiohttp!=4.0.0a0,!=4.0.0a1->fsspec[http]<2026.0,>=2022.5.0->lightning>=2.0->chemprop==2.0.0) (6.0.5)\n",
      "Requirement already satisfied: yarl<2.0,>=1.0 in /opt/anaconda3/lib/python3.12/site-packages (from aiohttp!=4.0.0a0,!=4.0.0a1->fsspec[http]<2026.0,>=2022.5.0->lightning>=2.0->chemprop==2.0.0) (1.9.4)\n",
      "Requirement already satisfied: dill>=0.3.8 in /opt/anaconda3/lib/python3.12/site-packages (from multiprocess>=0.70->aimsim-core->astartes[molecules]->chemprop==2.0.0) (0.3.8)\n",
      "Requirement already satisfied: idna>=2.0 in /opt/anaconda3/lib/python3.12/site-packages (from yarl<2.0,>=1.0->aiohttp!=4.0.0a0,!=4.0.0a1->fsspec[http]<2026.0,>=2022.5.0->lightning>=2.0->chemprop==2.0.0) (3.7)\n"
     ]
    }
   ],
   "source": [
    "# Installing chemprop (https://github.com/chemprop/chemprop) for chemical property prediction\n",
    "!pip install chemprop==2.0.0"
   ]
  },
  {
   "cell_type": "code",
   "execution_count": 2,
   "id": "0e0ed818-1615-4681-a171-db2856e87d24",
   "metadata": {},
   "outputs": [],
   "source": [
    "# Importing necessary modules\n",
    "import pandas as pd\n",
    "import numpy as np\n",
    "import os\n",
    "import torch\n",
    "import pandas as pd\n",
    "import numpy as np\n",
    "from chemprop import data, featurizers, models\n",
    "from lightning import pytorch as pl\n",
    "import math\n",
    "from sklearn.metrics import roc_curve, auc\n",
    "import matplotlib.pyplot as plt\n",
    "from pathlib import Path\n",
    "from typing import List, Optional"
   ]
  },
  {
   "cell_type": "code",
   "execution_count": 3,
   "id": "16c1cd83",
   "metadata": {},
   "outputs": [],
   "source": [
    "# Define the base paths\n",
    "BASE_DIRS = {\n",
    "    'absorption': Path('..', 'absorption'),\n",
    "    'distribution': Path('..', 'distribution'),\n",
    "    'metabolism': Path('..', 'metabolism'),\n",
    "    'excretion': Path('..', 'excretion'),\n",
    "}\n",
    "\n",
    "# Define a dictionary for model paths\n",
    "model_paths = {\n",
    "    'caco2': BASE_DIRS['absorption'] / 'caco2' / 'caco2.ckpt',\n",
    "    'solubility': BASE_DIRS['absorption'] / 'solubility' / 'solubility.ckpt',\n",
    "    'lipophilicity': BASE_DIRS['absorption'] / 'lipophilicity' / 'lipophilicity.ckpt',\n",
    "    'ppbr': BASE_DIRS['distribution'] / 'ppbr' / 'ppbr.ckpt',\n",
    "    'vdss': BASE_DIRS['distribution'] / 'vdss' / 'vdss.ckpt',\n",
    "    'cyp1a2-inhibitor': BASE_DIRS['metabolism'] / 'cyp1a2-inhibitor' / 'cyp1a2-inhibitor.ckpt',\n",
    "    'cyp1a2-substrate': BASE_DIRS['metabolism'] / 'cyp1a2-substrate' / 'cyp1a2-substrate.ckpt',\n",
    "    'cyp2c19-inhibitor': BASE_DIRS['metabolism'] / 'cyp2c19-inhibitor' / 'cyp2c19-inhibitor.ckpt',\n",
    "    'cyp2c19-substrate': BASE_DIRS['metabolism'] / 'cyp2c19-substrate' / 'cyp2c19-substrate.ckpt',\n",
    "    'cyp2c9-inhibitor': BASE_DIRS['metabolism'] / 'cyp2c9-inhibitor' / 'cyp2c9-inhibitor.ckpt',\n",
    "    'cyp2c9-substrate': BASE_DIRS['metabolism'] / 'cyp2c9-substrate' / 'cyp2c9-substrate.ckpt',\n",
    "    'cyp2d6-inhibitor': BASE_DIRS['metabolism'] / 'cyp2d6-inhibitor' / 'cyp2d6-inhibitor.ckpt',\n",
    "    'cyp2d6-substrate': BASE_DIRS['metabolism'] / 'cyp2d6-substrate' / 'cyp2d6-substrate.ckpt',\n",
    "    'cl-hepa': BASE_DIRS['excretion'] / 'cl-hepa' / 'cl-hepa.ckpt',\n",
    "    'cl-micro': BASE_DIRS['excretion'] / 'cl-micro' / 'cl-micro.ckpt',\n",
    "    'half-life': BASE_DIRS['excretion'] / 'half-life' / 'half-life.ckpt',\n",
    "}"
   ]
  },
  {
   "cell_type": "code",
   "execution_count": 4,
   "id": "bc87239e",
   "metadata": {},
   "outputs": [],
   "source": [
    "# Utility functions for loading and applying the model\n",
    "def get_model_path(property_name: str) -> Optional[Path]:\n",
    "    \"\"\"Retrieve the path for a given property model.\"\"\"\n",
    "    model_path = model_paths.get(property_name.lower())\n",
    "    if model_path and model_path.exists():\n",
    "        return model_path\n",
    "    return None\n",
    "\n",
    "def load_model(checkpoint_path: Path):\n",
    "    \"\"\"Load a pre-trained model from a checkpoint path.\"\"\"\n",
    "    try:\n",
    "        return models.MPNN.load_from_checkpoint(str(checkpoint_path))\n",
    "    except Exception as e:\n",
    "        print(f\"Error loading model from {checkpoint_path}: {e}\")\n",
    "        return None\n",
    "\n",
    "def featurize_smiles(smiles_list: List[str]):\n",
    "    \"\"\"Convert SMILES strings to a dataset and return the dataloader.\"\"\"\n",
    "    test_data = [data.MoleculeDatapoint.from_smi(smi) for smi in smiles_list]\n",
    "    featurizer = featurizers.SimpleMoleculeMolGraphFeaturizer()\n",
    "    test_dset = data.MoleculeDataset(test_data, featurizer=featurizer)\n",
    "    return data.build_dataloader(test_dset, shuffle=False)\n",
    "\n",
    "def predict_property(model, dataloader):\n",
    "    \"\"\"Run inference on the provided model and dataloader.\"\"\"\n",
    "    with torch.inference_mode():\n",
    "        trainer = pl.Trainer(\n",
    "            logger=False,\n",
    "            enable_progress_bar=False,\n",
    "            accelerator=\"cpu\",\n",
    "            devices=1\n",
    "        )\n",
    "        test_preds = trainer.predict(model, dataloader)\n",
    "        test_preds_flat = [item for sublist in test_preds for item in sublist]\n",
    "    return test_preds_flat\n",
    "\n",
    "def handle_user_input() -> str:\n",
    "    \"\"\"Handle user input for property name and validate it.\"\"\"\n",
    "    while True:\n",
    "        property_name = input(\"Enter the property to calculate (e.g., solubility) or 'exit' to quit: \").strip().lower()\n",
    "        if property_name == 'exit':\n",
    "            return property_name\n",
    "        model_path = get_model_path(property_name)\n",
    "        if not model_path:\n",
    "            print(f\"Model for property '{property_name}' not found.\")\n",
    "        else:\n",
    "            return property_name\n",
    "\n",
    "def process_smiles_input() -> List[str]:\n",
    "    \"\"\"Get and process SMILES input from the user.\"\"\"\n",
    "    smiles_input = input(\"Enter the SMILES list (comma-separated): \").strip()\n",
    "    return [smi.strip() for smi in smiles_input.split(',')]"
   ]
  },
  {
   "cell_type": "code",
   "execution_count": null,
   "id": "3537f7c5-bca8-40cd-a6f8-1b8865653807",
   "metadata": {},
   "outputs": [
    {
     "name": "stdin",
     "output_type": "stream",
     "text": [
      "Enter the property to calculate (e.g., solubility) or 'exit' to quit:  caco2\n",
      "Enter the SMILES list (comma-separated):  CCCC(=O)Nc1ccc(N2CCN(CC)CC2)c(Cl)c1\n"
     ]
    },
    {
     "name": "stderr",
     "output_type": "stream",
     "text": [
      "/opt/anaconda3/lib/python3.12/site-packages/lightning/pytorch/utilities/parsing.py:208: Attribute 'output_transform' is an instance of `nn.Module` and is already saved during checkpointing. It is recommended to ignore them using `self.save_hyperparameters(ignore=['output_transform'])`.\n",
      "/opt/anaconda3/lib/python3.12/site-packages/chemprop/data/dataloader.py:52: UserWarning: Dropping last batch of size 1 to avoid issues with batch normalization (dataset size = 1, batch_size = 64)\n",
      "  warnings.warn(\n",
      "GPU available: True (mps), used: False\n",
      "TPU available: False, using: 0 TPU cores\n",
      "HPU available: False, using: 0 HPUs\n",
      "/opt/anaconda3/lib/python3.12/site-packages/lightning/pytorch/trainer/setup.py:177: GPU available but not used. You can set it by doing `Trainer(accelerator='gpu')`.\n",
      "/opt/anaconda3/lib/python3.12/site-packages/lightning/pytorch/trainer/connectors/data_connector.py:424: The 'predict_dataloader' does not have many workers which may be a bottleneck. Consider increasing the value of the `num_workers` argument` to `num_workers=11` in the `DataLoader` to improve performance.\n"
     ]
    },
    {
     "name": "stdout",
     "output_type": "stream",
     "text": [
      "Predictions:\n",
      "                                SMILES       Prediction\n",
      "0  CCCC(=O)Nc1ccc(N2CCN(CC)CC2)c(Cl)c1  tensor(-4.6893)\n"
     ]
    },
    {
     "name": "stdin",
     "output_type": "stream",
     "text": [
      "Enter the property to calculate (e.g., solubility) or 'exit' to quit:  cyp1a2-inhibitor\n",
      "Enter the SMILES list (comma-separated):  CCCC(=O)Nc1ccc(N2CCN(CC)CC2)c(Cl)c1\n"
     ]
    },
    {
     "name": "stderr",
     "output_type": "stream",
     "text": [
      "/opt/anaconda3/lib/python3.12/site-packages/chemprop/data/dataloader.py:52: UserWarning: Dropping last batch of size 1 to avoid issues with batch normalization (dataset size = 1, batch_size = 64)\n",
      "  warnings.warn(\n",
      "GPU available: True (mps), used: False\n",
      "TPU available: False, using: 0 TPU cores\n",
      "HPU available: False, using: 0 HPUs\n",
      "/opt/anaconda3/lib/python3.12/site-packages/lightning/pytorch/trainer/setup.py:177: GPU available but not used. You can set it by doing `Trainer(accelerator='gpu')`.\n",
      "/opt/anaconda3/lib/python3.12/site-packages/lightning/pytorch/trainer/connectors/data_connector.py:424: The 'predict_dataloader' does not have many workers which may be a bottleneck. Consider increasing the value of the `num_workers` argument` to `num_workers=11` in the `DataLoader` to improve performance.\n"
     ]
    },
    {
     "name": "stdout",
     "output_type": "stream",
     "text": [
      "Predictions:\n",
      "                                SMILES      Prediction\n",
      "0  CCCC(=O)Nc1ccc(N2CCN(CC)CC2)c(Cl)c1  tensor(0.0005)\n"
     ]
    }
   ],
   "source": [
    "def main():\n",
    "    \"\"\"Main function providing a CLI for predicting molecular properties.\"\"\"\n",
    "    while True:\n",
    "        property_name = handle_user_input()\n",
    "        if property_name == 'exit':\n",
    "            print(\"Exiting the interface.\")\n",
    "            break\n",
    "        \n",
    "        model_path = get_model_path(property_name)\n",
    "        if not model_path:\n",
    "            continue\n",
    "        \n",
    "        smiles_list = process_smiles_input()\n",
    "\n",
    "        mpnn = load_model(model_path)\n",
    "        if mpnn is None:\n",
    "            continue\n",
    "\n",
    "        test_loader = featurize_smiles(smiles_list)\n",
    "        test_preds = predict_property(mpnn, test_loader)\n",
    "\n",
    "        test_preds_list = [pred[0] for pred in test_preds]\n",
    "        df = pd.DataFrame({\n",
    "            'SMILES': smiles_list,\n",
    "            'Prediction': test_preds_list\n",
    "        })\n",
    "        \n",
    "        print(\"Predictions:\")\n",
    "        print(df)\n",
    "\n",
    "if __name__ == \"__main__\":\n",
    "    main()"
   ]
  },
  {
   "cell_type": "code",
   "execution_count": null,
   "id": "9ae36694-73ff-433c-a618-6167b71b5a45",
   "metadata": {},
   "outputs": [],
   "source": []
  }
 ],
 "metadata": {
  "kernelspec": {
   "display_name": "Python 3 (ipykernel)",
   "language": "python",
   "name": "python3"
  },
  "language_info": {
   "codemirror_mode": {
    "name": "ipython",
    "version": 3
   },
   "file_extension": ".py",
   "mimetype": "text/x-python",
   "name": "python",
   "nbconvert_exporter": "python",
   "pygments_lexer": "ipython3",
   "version": "3.12.4"
  }
 },
 "nbformat": 4,
 "nbformat_minor": 5
}
