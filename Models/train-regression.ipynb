{
 "cells": [
  {
   "cell_type": "markdown",
   "metadata": {},
   "source": [
    "# Training regression models\n",
    "\n",
    "This notebook contains code to train regression models and reproduce our results. To learn more about training with [chemprop](https://github.com/chemprop/chemprop), refer to documentation [here](https://chemprop.readthedocs.io/en/latest/index.html)."
   ]
  },
  {
   "cell_type": "code",
   "execution_count": null,
   "metadata": {},
   "outputs": [],
   "source": [
    "import pathlib\n",
    "\n",
    "import chemprop\n",
    "import matplotlib.pyplot as plt"
   ]
  },
  {
   "cell_type": "markdown",
   "metadata": {},
   "source": [
    "For each ADMET group, we have regression targets and hyperparameters for the model\n",
    "\n",
    "To learn more about hyperparameters, refer to chemprop documentation on [train arguments](https://chemprop.readthedocs.io/en/latest/args.html#train-arguments)."
   ]
  },
  {
   "cell_type": "code",
   "execution_count": null,
   "metadata": {},
   "outputs": [],
   "source": [
    "regression_data = {\n",
    "    \"Absorption\": {\n",
    "        \"Caco-2\": {\n",
    "            \"depth\": 5,\n",
    "            \"dropout\": 0.25,\n",
    "            \"ffn_hidden_size\": 800,\n",
    "            \"ffn_num_layers\": 2,\n",
    "            \"hidden_size\": 800\n",
    "        },\n",
    "        \"Solubility\": {\n",
    "            \"depth\": 2,\n",
    "            \"dropout\": 0.0,\n",
    "            \"ffn_hidden_size\": 300,\n",
    "            \"ffn_num_layers\": 3,\n",
    "            \"hidden_size\": 300\n",
    "        },\n",
    "        \"Lipophilicity\": {\n",
    "            \"depth\": 3,\n",
    "            \"dropout\": 0.05,\n",
    "            \"ffn_hidden_size\": 2000,\n",
    "            \"ffn_num_layers\": 3,\n",
    "            \"hidden_size\": 2000\n",
    "        },\n",
    "    },\n",
    "    \"Distribution\": {\n",
    "        \"PPBR\": {\n",
    "            \"depth\": 6,\n",
    "            \"dropout\": 0.25,\n",
    "            \"ffn_hidden_size\": 500,\n",
    "            \"ffn_num_layers\": 3,\n",
    "            \"hidden_size\": 500\n",
    "        },\n",
    "        \"VDss\": {\n",
    "            \"depth\": 2,\n",
    "            \"dropout\": 0.3,\n",
    "            \"ffn_hidden_size\": 300,\n",
    "            \"ffn_num_layers\": 3,\n",
    "            \"hidden_size\": 300\n",
    "        },\n",
    "    },\n",
    "    \"Metabolism\": {}, # No regression targets for metabolism\n",
    "    \"Excretion\": {\n",
    "        \"Clearance-Hepatocyte\": {\n",
    "            \"depth\": 2,\n",
    "            \"dropout\": 0.25,\n",
    "            \"ffn_hidden_size\": 600,\n",
    "            \"ffn_num_layers\": 3,\n",
    "            \"hidden_size\": 600\n",
    "        },\n",
    "        \"Clearance-Microsome\": {\n",
    "            \"depth\": 3,\n",
    "            \"dropout\": 0.05,\n",
    "            \"ffn_hidden_size\": 1100,\n",
    "            \"ffn_num_layers\": 3,\n",
    "            \"hidden_size\": 1100\n",
    "        },\n",
    "        \"Half-Life\": {\n",
    "            \"depth\": 3,\n",
    "            \"dropout\": 0.35,\n",
    "            \"ffn_hidden_size\": 1100,\n",
    "            \"ffn_num_layers\": 3,\n",
    "            \"hidden_size\": 1100\n",
    "        },\n",
    "    },\n",
    "    \"Toxicity\": {\n",
    "        \"LD50\": None, # Hyperparameters for LD50 will be added later\n",
    "    },\n",
    "}\n",
    "\n",
    "data_root = pathlib.Path(\"../Datasets\")\n",
    "train_results = pathlib.Path(\"TrainResults\")\n",
    "train_results.mkdir(exist_ok=True)"
   ]
  },
  {
   "cell_type": "markdown",
   "metadata": {},
   "source": [
    "The following functions can be used to get spearman correlation between true and predicted target values, as well as plots of true vs. predicted values and true vs. residuals."
   ]
  },
  {
   "cell_type": "code",
   "execution_count": null,
   "metadata": {},
   "outputs": [],
   "source": [
    "def get_spearman_corr(y_true, y_pred):\n",
    "    return y_true.corr(y_pred, method='spearman')\n",
    "\n",
    "def get_true_vs_pred_plot(y_true, y_pred):\n",
    "    fig, ax = plt.subplots(figsize=(10, 10))\n",
    "    ax.scatter(y_true, y_pred)\n",
    "    ax.set_xlabel('True values')\n",
    "    ax.set_ylabel('Predicted values')\n",
    "    return fig\n",
    "\n",
    "def get_residuals_plot(y_true, y_pred):\n",
    "    fig, ax = plt.subplots(figsize=(10, 10))\n",
    "    ax.scatter(y_true, y_true - y_pred)\n",
    "    ax.set_xlabel('True values')\n",
    "    ax.set_ylabel('Residuals')\n",
    "    return fig"
   ]
  },
  {
   "cell_type": "code",
   "execution_count": null,
   "metadata": {},
   "outputs": [],
   "source": [
    "EPOCH_NUM = 100\n",
    "NUM_FOLDS = 1\n",
    "BATCH_SIZE = 256\n",
    "\n",
    "for admet_group, datasets in regression_data.items():\n",
    "    for dataset_name, hyperparams in datasets.items():\n",
    "        dataset_path = data_root / admet_group / f\"{dataset_name}.csv\"\n",
    "\n",
    "        # You can modify the following parameters\n",
    "        train_args_list = [\n",
    "            '--data_path', str(dataset_path),  # Path to data CSV file\n",
    "            '--dataset_type', 'regression',  # Dataset type\n",
    "            '--save_dir', str(train_results / f'{dataset_name}'),  # Directory where model checkpoints will be saved\n",
    "            '--epochs', str(EPOCH_NUM),  # Number of training epochs\n",
    "            '--num_folds', str(NUM_FOLDS),  # Number of cross validation folds\n",
    "            '--batch_size', str(BATCH_SIZE),  # Batch size. Decrease if running out of memory, or increase if GPU is underutilized\n",
    "            '--extra_metrics', 'r2', 'mse', 'mae',  # Additional metrics to compute\n",
    "            '--save_smiles_splits',  # Save train and val smiles splits\n",
    "            '--smiles_columns', 'Drug',  # Name of the column containing SMILES strings to pass as input to model. Can be list of columns\n",
    "            '--target_columns', 'Y',  # Name of the column containing targets to predict. Can be list of columns\n",
    "        ]\n",
    "\n",
    "        if hyperparams is not None:\n",
    "            for param, value in hyperparams.items():\n",
    "                train_args_list.extend([f'--{param}', str(value)])\n",
    "\n",
    "        args = chemprop.args.TrainArgs().parse_args(train_args_list)\n",
    "\n",
    "        mean_score, std_score = chemprop.train.cross_validate(args=args, train_func=chemprop.train.run_training)\n",
    "        break\n",
    "    break"
   ]
  },
  {
   "cell_type": "code",
   "execution_count": null,
   "metadata": {},
   "outputs": [],
   "source": []
  }
 ],
 "metadata": {
  "kernelspec": {
   "display_name": "PPB-SKDCQoEZ",
   "language": "python",
   "name": "python3"
  },
  "language_info": {
   "codemirror_mode": {
    "name": "ipython",
    "version": 3
   },
   "file_extension": ".py",
   "mimetype": "text/x-python",
   "name": "python",
   "nbconvert_exporter": "python",
   "pygments_lexer": "ipython3",
   "version": "3.8.18"
  },
  "orig_nbformat": 4
 },
 "nbformat": 4,
 "nbformat_minor": 2
}
